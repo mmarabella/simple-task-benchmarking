{
 "cells": [
  {
   "cell_type": "code",
   "execution_count": 17,
   "metadata": {},
   "outputs": [],
   "source": [
    "import pandas as pd\n",
    "import matplotlib.pyplot as plt\n",
    "import numpy as np"
   ]
  },
  {
   "cell_type": "code",
   "execution_count": 20,
   "metadata": {},
   "outputs": [
    {
     "data": {
      "image/png": "[encoded data removed]",
      "text/plain": [
       "<Figure size 432x288 with 1 Axes>"
      ]
     },
     "metadata": {
      "needs_background": "light"
     },
     "output_type": "display_data"
    },
    {
     "name": "stdout",
     "output_type": "stream",
     "text": [
      " 0.0         592\n",
      " 1.0          11\n",
      " 2000.0        7\n",
      " 1000.0        6\n",
      " 2685.0        4\n",
      "-1.0           4\n",
      " 10.0          3\n",
      "-1867.0        3\n",
      " 3000.0        3\n",
      " 37558.0       3\n",
      "-2885.0        3\n",
      " 9755.0        3\n",
      "-47728.0       3\n",
      " 1719.0        3\n",
      " 200.0         3\n",
      " 967.0         2\n",
      " 116567.0      2\n",
      " 37865.0       2\n",
      "-229674.0      2\n",
      " 5171.0        2\n",
      " 9624.0        2\n",
      "-2143.0        2\n",
      " 20000.0       2\n",
      " 7581.0        2\n",
      " 10058.0       2\n",
      " 45.0          2\n",
      " 770.0         2\n",
      " 4394.0        2\n",
      "-29404.0       2\n",
      "-22582.0       2\n",
      "            ... \n",
      " 795.0         1\n",
      " 918382.0      1\n",
      "-2224.0        1\n",
      " 992914.5      1\n",
      "-27133.0       1\n",
      "-261286.0      1\n",
      " 7130.0        1\n",
      "-7729.0        1\n",
      " 600000.0      1\n",
      " 38133.0       1\n",
      " 222875.0      1\n",
      " 26584.0       1\n",
      " 10713.5       1\n",
      " 29775.0       1\n",
      " 916.0         1\n",
      " 942000.0      1\n",
      "-146315.0      1\n",
      " 149000.0      1\n",
      "-4299.0        1\n",
      " 9863.0        1\n",
      " 34723.5       1\n",
      " 3362.0        1\n",
      " 100000.0      1\n",
      " 43026.0       1\n",
      " 3950.0        1\n",
      "-170000.0      1\n",
      " 52982.0       1\n",
      " 5821.0        1\n",
      "-24806.0       1\n",
      " 4324.0        1\n",
      "Name: err, Length: 333, dtype: int64\n"
     ]
    }
   ],
   "source": [
    "df_answer = pd.read_csv('same-index-separate/answer_population.csv')\n",
    "df_truth = pd.read_csv('same-index-separate/truth_population.csv').set_index('question')\n",
    "df_combined = df_answer.join(df_truth, on='question', how='inner')\n",
    "df_combined['err'] = df_combined['answer'] - df_combined['truth']\n",
    "\n",
    "# df_combined['err'].plot.bar()\n",
    "plt.hist(df_combined['err'].values, bins=100)\n",
    "plt.show()\n",
    "\n",
    "print(df_combined['err'].value_counts())\n"
   ]
  },
  {
   "cell_type": "code",
   "execution_count": null,
   "metadata": {},
   "outputs": [],
   "source": []
  }
 ],
 "metadata": {
  "kernelspec": {
   "display_name": "Python 3",
   "language": "python",
   "name": "python3"
  },
  "language_info": {
   "codemirror_mode": {
    "name": "ipython",
    "version": 2
   },
   "file_extension": ".py",
   "mimetype": "text/x-python",
   "name": "python",
   "nbconvert_exporter": "python",
   "pygments_lexer": "ipython2",
   "version": "2.7.17"
  }
 },
 "nbformat": 4,
 "nbformat_minor": 2
}
