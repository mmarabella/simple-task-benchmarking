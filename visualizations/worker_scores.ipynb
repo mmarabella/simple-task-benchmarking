{
 "cells": [
  {
   "cell_type": "code",
   "execution_count": 1,
   "metadata": {},
   "outputs": [],
   "source": [
    "import pandas as pd\n",
    "import sys\n",
    "import matplotlib.pyplot as plt\n",
    "import numpy as np"
   ]
  },
  {
   "cell_type": "code",
   "execution_count": 2,
   "metadata": {},
   "outputs": [
    {
     "ename": "NameError",
     "evalue": "name 'task_name' is not defined",
     "output_type": "error",
     "traceback": [
      "\u001b[0;31m---------------------------------------------------------------------------\u001b[0m",
      "\u001b[0;31mNameError\u001b[0m                                 Traceback (most recent call last)",
      "\u001b[0;32m<ipython-input-2-7ce1d3767c34>\u001b[0m in \u001b[0;36m<module>\u001b[0;34m()\u001b[0m\n\u001b[0;32m----> 1\u001b[0;31m \u001b[0mdf_answer\u001b[0m \u001b[0;34m=\u001b[0m \u001b[0mpd\u001b[0m\u001b[0;34m.\u001b[0m\u001b[0mread_csv\u001b[0m\u001b[0;34m(\u001b[0m\u001b[0;34m'../data/same-index-separate/answer_'\u001b[0m \u001b[0;34m+\u001b[0m \u001b[0mtask_name\u001b[0m \u001b[0;34m+\u001b[0m \u001b[0;34m'.csv'\u001b[0m\u001b[0;34m)\u001b[0m\u001b[0;34m\u001b[0m\u001b[0m\n\u001b[0m\u001b[1;32m      2\u001b[0m \u001b[0mdf_truth\u001b[0m \u001b[0;34m=\u001b[0m \u001b[0mpd\u001b[0m\u001b[0;34m.\u001b[0m\u001b[0mread_csv\u001b[0m\u001b[0;34m(\u001b[0m\u001b[0;34m'../data/same-index-separate/truth_'\u001b[0m \u001b[0;34m+\u001b[0m \u001b[0mtask_name\u001b[0m \u001b[0;34m+\u001b[0m \u001b[0;34m'.csv'\u001b[0m\u001b[0;34m)\u001b[0m\u001b[0;34m.\u001b[0m\u001b[0mset_index\u001b[0m\u001b[0;34m(\u001b[0m\u001b[0;34m'question'\u001b[0m\u001b[0;34m)\u001b[0m\u001b[0;34m\u001b[0m\u001b[0m\n\u001b[1;32m      3\u001b[0m \u001b[0mdf_full\u001b[0m \u001b[0;34m=\u001b[0m \u001b[0mdf_answer\u001b[0m\u001b[0;34m.\u001b[0m\u001b[0mjoin\u001b[0m\u001b[0;34m(\u001b[0m\u001b[0mdf_truth\u001b[0m\u001b[0;34m,\u001b[0m \u001b[0mon\u001b[0m\u001b[0;34m=\u001b[0m\u001b[0;34m'question'\u001b[0m\u001b[0;34m,\u001b[0m \u001b[0mhow\u001b[0m\u001b[0;34m=\u001b[0m\u001b[0;34m'inner'\u001b[0m\u001b[0;34m)\u001b[0m\u001b[0;34m\u001b[0m\u001b[0m\n",
      "\u001b[0;31mNameError\u001b[0m: name 'task_name' is not defined"
     ]
    }
   ],
   "source": [
    "df_answer = pd.read_csv('../data/same-index-separate/answer_' + task_name + '.csv')\n",
    "df_truth = pd.read_csv('../data/same-index-separate/truth_' + task_name + '.csv').set_index('question')\n",
    "df_full = df_answer.join(df_truth, on='question', how='inner')"
   ]
  },
  {
   "cell_type": "code",
   "execution_count": 3,
   "metadata": {},
   "outputs": [
    {
     "data": {
      "text/plain": [
       "Text(0.5,1,'Worker Accuracy')"
      ]
     },
     "execution_count": 3,
     "metadata": {},
     "output_type": "execute_result"
    },
    {
     "data": {
      "image/png": "[encoded data removed]",
      "text/plain": [
       "<Figure size 432x288 with 1 Axes>"
      ]
     },
     "metadata": {
      "needs_background": "light"
     },
     "output_type": "display_data"
    }
   ],
   "source": [
    "tasks = ['waterbird', 'movie', 'temporal', 'face', 'dog', 'weather_ordinal', 'adult_ordinal']\n",
    "\n",
    "acc_dict = {}\n",
    "for task_name in tasks:\n",
    "    df_answer = pd.read_csv('../data/same-index-separate/answer_' + task_name + '.csv')\n",
    "    df_truth = pd.read_csv('../data/same-index-separate/truth_' + task_name + '.csv').set_index('question')\n",
    "    df_full = df_answer.join(df_truth, on='question', how='inner')\n",
    "    df_full['score'] = (df_full['truth'] == df_full['answer']).astype(int)\n",
    "    worker_accuracies = df_full[['worker', 'score']].groupby('worker').mean()\n",
    "#     if task_name == 'weather_ordinal':\n",
    "#         print(worker_accuracies)\n",
    "    task_name_reformat = task_name.split('_')[0]\n",
    "    acc_dict[task_name_reformat] = list(worker_accuracies['score'])\n",
    "    \n",
    "fig, ax = plt.subplots()\n",
    "ax.boxplot(acc_dict.values())\n",
    "ax.set_xticklabels(acc_dict.keys())\n",
    "ax.set_ylabel('accuracy')\n",
    "ax.set_title('Worker Accuracy')\n",
    "\n"
   ]
  },
  {
   "cell_type": "code",
   "execution_count": 4,
   "metadata": {},
   "outputs": [
    {
     "data": {
      "text/plain": [
       "Text(0.5,1,'Worker MAE/range')"
      ]
     },
     "execution_count": 4,
     "metadata": {},
     "output_type": "execute_result"
    },
    {
     "data": {
      "image/png": "[encoded data removed]",
      "text/plain": [
       "<Figure size 432x288 with 1 Axes>"
      ]
     },
     "metadata": {
      "needs_background": "light"
     },
     "output_type": "display_data"
    }
   ],
   "source": [
    "tasks = ['weather_ordinal', 'adult_ordinal', 'emotion', 'similarity', 'population']\n",
    "remove_outliers = True\n",
    "\n",
    "acc_dict = {}\n",
    "for task_name in tasks:\n",
    "    df_answer = pd.read_csv('../data/same-index-separate/answer_' + task_name + '.csv')\n",
    "    df_truth = pd.read_csv('../data/same-index-separate/truth_' + task_name + '.csv').set_index('question')\n",
    "    df_full = df_answer.join(df_truth, on='question', how='inner')\n",
    "    \n",
    "    if remove_outliers:\n",
    "        q25 = df_full['answer'].quantile(.25)\n",
    "        q75 = df_full['answer'].quantile(.75)\n",
    "        upper = q75 + 3*(q75 - q25)\n",
    "        lower = q25 - 3*(q75 - q25)\n",
    "        df_full = df_full[df_full['answer'] < upper]\n",
    "        \n",
    "    max_val = max(df_full['truth'])\n",
    "    min_val = min(df_full['truth'])\n",
    "    truth_range = max_val - min_val\n",
    "    truth_avg = df_full['truth'].mean()\n",
    "    df_full['score'] = (df_full['answer'] - df_full['truth'])/truth_range\n",
    "    worker_accuracies = df_full[['worker', 'score']].groupby('worker').mean()\n",
    "    task_name_reformat = task_name.split('_')[0]\n",
    "    acc_dict[task_name_reformat] = list(worker_accuracies['score'])\n",
    "    \n",
    "fig, ax = plt.subplots()\n",
    "ax.boxplot(acc_dict.values())\n",
    "ax.set_xticklabels(acc_dict.keys())\n",
    "ax.set_ylabel('MAE/range')\n",
    "ax.set_title('Worker MAE/range')"
   ]
  },
  {
   "cell_type": "code",
   "execution_count": null,
   "metadata": {},
   "outputs": [],
   "source": []
  }
 ],
 "metadata": {
  "kernelspec": {
   "display_name": "Python 3",
   "language": "python",
   "name": "python3"
  },
  "language_info": {
   "codemirror_mode": {
    "name": "ipython",
    "version": 2
   },
   "file_extension": ".py",
   "mimetype": "text/x-python",
   "name": "python",
   "nbconvert_exporter": "python",
   "pygments_lexer": "ipython2",
   "version": "2.7.17"
  }
 },
 "nbformat": 4,
 "nbformat_minor": 2
}
